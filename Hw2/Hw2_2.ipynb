{
 "cells": [
  {
   "cell_type": "code",
   "execution_count": 7,
   "metadata": {},
   "outputs": [],
   "source": [
    "from math import factorial"
   ]
  },
  {
   "cell_type": "code",
   "execution_count": 8,
   "metadata": {},
   "outputs": [
    {
     "name": "stdout",
     "output_type": "stream",
     "text": [
      "Input a\n",
      "10\n",
      "Input b\n",
      "1\n"
     ]
    }
   ],
   "source": [
    "print(\"Input a\")\n",
    "a = input()\n",
    "print(\"Input b\")\n",
    "b = input()"
   ]
  },
  {
   "cell_type": "code",
   "execution_count": 9,
   "metadata": {},
   "outputs": [
    {
     "name": "stdout",
     "output_type": "stream",
     "text": [
      "[(22, 11), (7, 4), (12, 7), (19, 11), (15, 10), (15, 9), (10, 6), (11, 8), (11, 6), (9, 6), (11, 7)]\n"
     ]
    }
   ],
   "source": [
    "N_m_pair = []\n",
    "data_count = 0\n",
    "\n",
    "with open(\"testfile.txt\", \"r\") as f:\n",
    "    lines = f.readlines()\n",
    "    data_count = len(lines)\n",
    "    \n",
    "    for line in lines:\n",
    "        line = line[:-1]\n",
    "        N = len(line)\n",
    "        m = 0\n",
    "        for i in line:\n",
    "            if i == '1':\n",
    "                m += 1\n",
    "        N_m_pair.append((N, m))\n",
    "\n",
    "print(N_m_pair)"
   ]
  },
  {
   "cell_type": "code",
   "execution_count": 10,
   "metadata": {},
   "outputs": [
    {
     "name": "stdout",
     "output_type": "stream",
     "text": [
      "[(10, 1, 21, 12), (21, 12, 25, 15), (25, 15, 32, 20), (32, 20, 43, 28), (43, 28, 53, 33), (53, 33, 62, 39), (62, 39, 68, 43), (68, 43, 76, 46), (76, 46, 82, 51), (82, 51, 88, 54), (88, 54, 95, 58)]\n"
     ]
    }
   ],
   "source": [
    "beta = []\n",
    "\n",
    "beta_prior_a = int(a)\n",
    "beta_prior_b = int(b)\n",
    "\n",
    "for i in range(data_count):\n",
    "   \n",
    "    beta_posterior_a = N_m_pair[i][1] + beta_prior_a\n",
    "    beta_posterior_b = N_m_pair[i][0] - N_m_pair[i][1] + beta_prior_b\n",
    "\n",
    "    beta.append((beta_prior_a, beta_prior_b, beta_posterior_a, beta_posterior_b))\n",
    "    \n",
    "    beta_prior_a = beta_posterior_a\n",
    "    beta_prior_b = beta_posterior_b\n",
    "\n",
    "print(beta)"
   ]
  },
  {
   "cell_type": "code",
   "execution_count": 11,
   "metadata": {},
   "outputs": [],
   "source": [
    "def Likelihood(p, N, m):\n",
    "    return (factorial(N)/(factorial(m)*factorial(N-m))) * (p**m) * ((1-p)**(N-m))\n",
    "    "
   ]
  },
  {
   "cell_type": "code",
   "execution_count": 12,
   "metadata": {},
   "outputs": [
    {
     "name": "stdout",
     "output_type": "stream",
     "text": [
      "case 1: 0101010101001011010101\n",
      "Likelihood: 0.16818809509277344\n",
      "Beta prior:     a = 10 b = 1\n",
      "Beta posterior: a = 21 b = 12\n",
      "\n",
      "case 2: 0110101\n",
      "Likelihood: 0.29375515303997485\n",
      "Beta prior:     a = 21 b = 12\n",
      "Beta posterior: a = 25 b = 15\n",
      "\n",
      "case 3: 010110101101\n",
      "Likelihood: 0.2286054241794335\n",
      "Beta prior:     a = 25 b = 15\n",
      "Beta posterior: a = 32 b = 20\n",
      "\n",
      "case 4: 0101101011101011010\n",
      "Likelihood: 0.18286870706509092\n",
      "Beta prior:     a = 32 b = 20\n",
      "Beta posterior: a = 43 b = 28\n",
      "\n",
      "case 5: 111101100011110\n",
      "Likelihood: 0.2143070548857833\n",
      "Beta prior:     a = 43 b = 28\n",
      "Beta posterior: a = 53 b = 33\n",
      "\n",
      "case 6: 101110111000110\n",
      "Likelihood: 0.20659760529408\n",
      "Beta prior:     a = 53 b = 33\n",
      "Beta posterior: a = 62 b = 39\n",
      "\n",
      "case 7: 1010010111\n",
      "Likelihood: 0.25082265600000003\n",
      "Beta prior:     a = 62 b = 39\n",
      "Beta posterior: a = 68 b = 43\n",
      "\n",
      "case 8: 11101110110\n",
      "Likelihood: 0.2619678932864457\n",
      "Beta prior:     a = 68 b = 43\n",
      "Beta posterior: a = 76 b = 46\n",
      "\n",
      "case 9: 01000111101\n",
      "Likelihood: 0.23609128871506807\n",
      "Beta prior:     a = 76 b = 46\n",
      "Beta posterior: a = 82 b = 51\n",
      "\n",
      "case 10: 110100111\n",
      "Likelihood: 0.27312909617436365\n",
      "Beta prior:     a = 82 b = 51\n",
      "Beta posterior: a = 88 b = 54\n",
      "\n",
      "case 11: 01101010111\n",
      "Likelihood: 0.24384881449471862\n",
      "Beta prior:     a = 88 b = 54\n",
      "Beta posterior: a = 95 b = 58\n",
      "\n"
     ]
    }
   ],
   "source": [
    "for i in range(data_count):\n",
    "    print(\"case {}: {}\".format(i+1, lines[i][:-1]))\n",
    "    print(\"Likelihood: {}\".format(Likelihood( N_m_pair[i][1]/N_m_pair[i][0] , N_m_pair[i][0], N_m_pair[i][1])))\n",
    "    print(\"Beta prior:     a = {} b = {}\".format(beta[i][0], beta[i][1]))\n",
    "    print(\"Beta posterior: a = {} b = {}\".format(beta[i][2], beta[i][3]))\n",
    "    print()"
   ]
  }
 ],
 "metadata": {
  "kernelspec": {
   "display_name": "Python 3",
   "language": "python",
   "name": "python3"
  },
  "language_info": {
   "codemirror_mode": {
    "name": "ipython",
    "version": 3
   },
   "file_extension": ".py",
   "mimetype": "text/x-python",
   "name": "python",
   "nbconvert_exporter": "python",
   "pygments_lexer": "ipython3",
   "version": "3.8.2"
  }
 },
 "nbformat": 4,
 "nbformat_minor": 4
}
