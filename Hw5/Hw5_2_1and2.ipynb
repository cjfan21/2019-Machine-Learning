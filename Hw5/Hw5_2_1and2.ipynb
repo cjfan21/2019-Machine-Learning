{
 "cells": [
  {
   "cell_type": "code",
   "execution_count": 19,
   "metadata": {},
   "outputs": [],
   "source": [
    "import csv\n",
    "import numpy as np\n",
    "from svmutil import *"
   ]
  },
  {
   "cell_type": "code",
   "execution_count": 20,
   "metadata": {},
   "outputs": [],
   "source": [
    "def read_input():\n",
    "    train_x = []\n",
    "    train_y = []\n",
    "    test_x = []\n",
    "    test_y = []\n",
    "    \n",
    "    with open('X_train.csv', newline='') as fp:\n",
    "        rows = csv.reader(fp)\n",
    "        for row in rows:\n",
    "            train_x.append([float(i) for i in row])\n",
    "    \n",
    "    with open('Y_train.csv', newline='') as fp:\n",
    "        rows = csv.reader(fp)\n",
    "        for row in rows:\n",
    "            train_y.append(int(row[0]))\n",
    "        \n",
    "    with open('X_test.csv', newline='') as fp:\n",
    "        rows = csv.reader(fp)\n",
    "        for row in rows:\n",
    "            test_x.append([float(i) for i in row])\n",
    "    \n",
    "    with open('Y_test.csv', newline='') as fp:\n",
    "        rows = csv.reader(fp)\n",
    "        for row in rows:\n",
    "            test_y.append(int(row[0]))\n",
    "    \n",
    "    return np.array(train_x), np.array(train_y), np.array(test_x), np.array(test_y) "
   ]
  },
  {
   "cell_type": "code",
   "execution_count": 21,
   "metadata": {},
   "outputs": [],
   "source": [
    "def svm_diff_kernel(train_x, train_y, test_x, test_y):\n",
    "    \n",
    "    print('Linear kernel function:')\n",
    "    problem = svm_problem(train_y, train_x)\n",
    "    parameter = svm_parameter('-q -t 0')\n",
    "    model = svm_train(problem, parameter)\n",
    "    svm_predict(test_y, test_x, model)\n",
    "    \n",
    "    print('Polynomial kernel function:')\n",
    "    problem = svm_problem(train_y, train_x)\n",
    "    parameter = svm_parameter('-q -t 1')\n",
    "    model = svm_train(problem, parameter)\n",
    "    svm_predict(test_y, test_x, model)\n",
    "    \n",
    "    print('RBF kernel function:')\n",
    "    problem = svm_problem(train_y, train_x)\n",
    "    parameter = svm_parameter('-q -t 2')\n",
    "    model = svm_train(problem, parameter)\n",
    "    svm_predict(test_y, test_x, model)"
   ]
  },
  {
   "cell_type": "code",
   "execution_count": 22,
   "metadata": {},
   "outputs": [],
   "source": [
    "def fillin_acc_matrix(c, g, value, acc_matrix):\n",
    "    row = int(np.log2(c))+4\n",
    "    col = int(np.log2(g))+4\n",
    "    acc_matrix[row][col] = value"
   ]
  },
  {
   "cell_type": "code",
   "execution_count": 23,
   "metadata": {},
   "outputs": [],
   "source": [
    "def grid_search(train_x, train_y):\n",
    "    C = [2**-4, 2**-3, 2**-2, 2**-1, 1, 2**1, 2**2, 2**3, 2**4]\n",
    "    gamma = [2**-4, 2**-3, 2**-2, 2**-1, 1, 2**1, 2**2, 2**3, 2**4]\n",
    "    \n",
    "    acc_matrix = np.zeros((len(C),len(gamma)))\n",
    "    best_cg = (0,0)\n",
    "    best_acc = 0\n",
    "    \n",
    "    #C = [16]\n",
    "    #gamma = [1/16]\n",
    "    \n",
    "    for c in C:\n",
    "        for g in gamma:\n",
    "            print('c=%f, g=%f' % (c,g))\n",
    "            problem = svm_problem(train_y, train_x)\n",
    "            parameter = svm_parameter('-q -s 0 -t 2 -v 3 -c {} -g {}'.format(c,g))\n",
    "            acc = svm_train(problem, parameter)\n",
    "            \n",
    "            fillin_acc_matrix(c,g,acc,acc_matrix)\n",
    "            if acc > best_acc:\n",
    "                best_cg = (c,g)\n",
    "                best_acc = acc\n",
    "        print(acc_matrix)\n",
    "    \n",
    "    return best_cg, best_acc"
   ]
  },
  {
   "cell_type": "code",
   "execution_count": 18,
   "metadata": {},
   "outputs": [
    {
     "name": "stdout",
     "output_type": "stream",
     "text": [
      "Linear kernel function:\n",
      "Accuracy = 95.08% (2377/2500) (classification)\n",
      "Polynomial kernel function:\n",
      "Accuracy = 34.68% (867/2500) (classification)\n",
      "RBF kernel function:\n",
      "Accuracy = 95.32% (2383/2500) (classification)\n",
      "c=16.000000, g=0.062500\n",
      "Cross Validation Accuracy = 97.9%\n",
      "[[ 0.   0.   0.   0.   0.   0.   0.   0.   0. ]\n",
      " [ 0.   0.   0.   0.   0.   0.   0.   0.   0. ]\n",
      " [ 0.   0.   0.   0.   0.   0.   0.   0.   0. ]\n",
      " [ 0.   0.   0.   0.   0.   0.   0.   0.   0. ]\n",
      " [ 0.   0.   0.   0.   0.   0.   0.   0.   0. ]\n",
      " [ 0.   0.   0.   0.   0.   0.   0.   0.   0. ]\n",
      " [ 0.   0.   0.   0.   0.   0.   0.   0.   0. ]\n",
      " [ 0.   0.   0.   0.   0.   0.   0.   0.   0. ]\n",
      " [97.9  0.   0.   0.   0.   0.   0.   0.   0. ]]\n",
      "(16, 0.0625)\n",
      "97.89999999999999\n"
     ]
    }
   ],
   "source": [
    "if __name__ == \"__main__\":\n",
    "    train_x, train_y, test_x, test_y = read_input()\n",
    "    \n",
    "    '''\n",
    "    2-1. Use different kernel functions\n",
    "    '''\n",
    "    svm_diff_kernel(train_x, train_y, test_x, test_y)\n",
    "    '''\n",
    "    2-2. C-SVC, grid search\n",
    "    '''\n",
    "    best_cg, best_acc = grid_search(train_x, train_y)\n",
    "    print(best_cg)\n",
    "    print(best_acc)"
   ]
  }
 ],
 "metadata": {
  "kernelspec": {
   "display_name": "Python 3",
   "language": "python",
   "name": "python3"
  },
  "language_info": {
   "codemirror_mode": {
    "name": "ipython",
    "version": 3
   },
   "file_extension": ".py",
   "mimetype": "text/x-python",
   "name": "python",
   "nbconvert_exporter": "python",
   "pygments_lexer": "ipython3",
   "version": "3.8.3"
  }
 },
 "nbformat": 4,
 "nbformat_minor": 4
}
