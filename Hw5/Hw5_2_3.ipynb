{
 "cells": [
  {
   "cell_type": "code",
   "execution_count": 12,
   "metadata": {},
   "outputs": [],
   "source": [
    "import csv\n",
    "import numpy as np\n",
    "from svmutil import *\n",
    "from scipy.spatial.distance import pdist, squareform, cdist"
   ]
  },
  {
   "cell_type": "code",
   "execution_count": 13,
   "metadata": {},
   "outputs": [],
   "source": [
    "def read_input():\n",
    "    train_x = []\n",
    "    train_y = []\n",
    "    test_x = []\n",
    "    test_y = []\n",
    "    \n",
    "    with open('X_train.csv', newline='') as fp:\n",
    "        rows = csv.reader(fp)\n",
    "        for row in rows:\n",
    "            train_x.append([float(i) for i in row])\n",
    "    \n",
    "    with open('Y_train.csv', newline='') as fp:\n",
    "        rows = csv.reader(fp)\n",
    "        for row in rows:\n",
    "            train_y.append(int(row[0]))\n",
    "        \n",
    "    with open('X_test.csv', newline='') as fp:\n",
    "        rows = csv.reader(fp)\n",
    "        for row in rows:\n",
    "            test_x.append([float(i) for i in row])\n",
    "    \n",
    "    with open('Y_test.csv', newline='') as fp:\n",
    "        rows = csv.reader(fp)\n",
    "        for row in rows:\n",
    "            test_y.append(int(row[0]))\n",
    "    \n",
    "    return np.array(train_x), np.array(train_y), np.array(test_x), np.array(test_y) "
   ]
  },
  {
   "cell_type": "code",
   "execution_count": 14,
   "metadata": {},
   "outputs": [],
   "source": [
    "def user_defined_kernel(train_x, test_x):\n",
    "    gamma = 1/16\n",
    "    \n",
    "    train_linear = train_x@(train_x.T)\n",
    "    train_rbf = squareform(np.exp(-gamma * pdist(train_x, 'sqeuclidean')))\n",
    "    train_kernel = np.hstack((np.arange(1,train_x.shape[0]+1).reshape((-1,1)), train_linear+train_rbf))\n",
    "    \n",
    "    test_linear = test_x@(train_x.T)\n",
    "    test_rbf = np.exp(-gamma * cdist(test_x, train_x, 'sqeuclidean'))\n",
    "    test_kernel = np.hstack((np.arange(1,test_x.shape[0]+1).reshape((-1,1)), test_linear+test_rbf))\n",
    "    \n",
    "    return train_kernel, test_kernel"
   ]
  },
  {
   "cell_type": "code",
   "execution_count": 15,
   "metadata": {},
   "outputs": [],
   "source": [
    "def svm_user_defined_kernel(train_x, train_y, test_x, test_y):\n",
    "    problem = svm_problem(train_y, train_x, isKernel=True)\n",
    "    parameter = svm_parameter('-q -s 0 -t 4 -c 16 -g 0.0625')\n",
    "    model = svm_train(problem, parameter)\n",
    "    svm_predict(test_y, test_x, model)"
   ]
  },
  {
   "cell_type": "code",
   "execution_count": 17,
   "metadata": {},
   "outputs": [
    {
     "name": "stdout",
     "output_type": "stream",
     "text": [
      "Accuracy = 26.4% (660/2500) (classification)\n"
     ]
    }
   ],
   "source": [
    "if __name__ == \"__main__\":\n",
    "    train_x, train_y, test_x, test_y = read_input()\n",
    "    \n",
    "    '''\n",
    "    2-3. Use linear + RBF kernel together\n",
    "    '''\n",
    "    train_kernel, test_kernel = user_defined_kernel(train_x, test_x)\n",
    "    svm_user_defined_kernel(train_kernel, train_y, test_x, test_y)"
   ]
  }
 ],
 "metadata": {
  "kernelspec": {
   "display_name": "Python 3",
   "language": "python",
   "name": "python3"
  },
  "language_info": {
   "codemirror_mode": {
    "name": "ipython",
    "version": 3
   },
   "file_extension": ".py",
   "mimetype": "text/x-python",
   "name": "python",
   "nbconvert_exporter": "python",
   "pygments_lexer": "ipython3",
   "version": "3.6.9"
  }
 },
 "nbformat": 4,
 "nbformat_minor": 4
}
